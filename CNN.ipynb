{
 "cells": [
  {
   "cell_type": "code",
   "execution_count": 1,
   "metadata": {},
   "outputs": [],
   "source": [
    "from keras.models import Sequential\n",
    "from keras.layers import Convolution2D, MaxPooling2D, Flatten, Dense"
   ]
  },
  {
   "cell_type": "code",
   "execution_count": 2,
   "metadata": {},
   "outputs": [],
   "source": [
    "model = Sequential()                                                                # keras modeli\n",
    "model.add(Convolution2D(32, 3, 3, input_shape = (64, 64, 3), activation = 'relu'))  # evrisim katmani (64, 64, 3) RGB ve 64x64px indirge\n",
    "model.add(MaxPooling2D(pool_size = (2, 2) ))                                        # pooling katmani max algoritmasi    \n",
    "model.add(Convolution2D(32, 3, 3, activation = 'relu'))                             # evrisim katmani\n",
    "model.add(MaxPooling2D(pool_size = (2, 2) ))                                        # pooling katmani max algoritmasi\n",
    "model.add(Flatten())                                                                # Flatten islemi\n",
    "model.add(Dense(128, activation = 'relu'))                                          # YSA 128 girdi\n",
    "model.add(Dense(1, activation = 'sigmoid'))                                         # YSA 1 cikti"
   ]
  },
  {
   "cell_type": "code",
   "execution_count": 3,
   "metadata": {},
   "outputs": [],
   "source": [
    "model.compile(optimizer = 'adam', loss = 'binary_crossentropy', metrics = ['accuracy'])"
   ]
  },
  {
   "cell_type": "markdown",
   "metadata": {},
   "source": [
    "**shear_range: Float. Shear Intensity (Shear angle in counter-clockwise direction in degrees) | Sair diyor ki; float deger alir. kesme yogunlugu yani oransal girili ve saat yonunun tersine shear acisi alir**\n",
    "\n",
    "**zoom_range: Float or [lower, upper]. Range for random zoom. If a float, [lower, upper] = [1-zoom_range, 1+zoom_range].**"
   ]
  },
  {
   "cell_type": "markdown",
   "metadata": {},
   "source": [
    "-> **object** : the Keras Object model.\n",
    "\n",
    "-> **generator** : a generator whose output must be a list of the form:\n",
    "                      - (inputs, targets)    \n",
    "                      - (input, targets, sample_weights)\n",
    "a single output of the generator makes a single batch and hence all arrays in the list \n",
    "must be having the length equal to the size of the batch. The generator is expected \n",
    "to loop over its data infinite no. of times, it should never return or exit.\n",
    "\n",
    "-> **steps_per_epoch** : it specifies the total number of steps taken from the generator\n",
    "   as soon as one epoch is finished and next epoch has started. We can calculate the value\n",
    "of steps_per_epoch as the total number of samples in your dataset divided by the batch size.\n",
    "\n",
    "-> **Epochs** : an integer and number of epochs we want to train our model for.\n",
    "\n",
    "-> **Verbose** : specifies verbosity mode(0 = silent, 1= progress bar, 2 = one line per epoch).\n",
    "\n",
    "-> **callbacks** : a list of callback functions applied during the training of our model.\n",
    "\n",
    "-> **validation_data** can be either:\n",
    "                      - an inputs and targets list\n",
    "                      - a generator\n",
    "                      - an inputs, targets, and sample_weights list which can be used to evaluate\n",
    "                        the loss and metrics for any model after any epoch has ended.\n",
    "\n",
    "-> **validation_steps** :only if the validation_data is a generator then only this argument\n",
    "can be used. It specifies the total number of steps taken from the generator before it is \n",
    "stopped at every epoch and its value is calculated as the total number of validation data points\n",
    "in your dataset divided by the validation batch size."
   ]
  },
  {
   "cell_type": "code",
   "execution_count": 34,
   "metadata": {},
   "outputs": [
    {
     "name": "stdout",
     "output_type": "stream",
     "text": [
      "Found 2662 images belonging to 2 classes.\n",
      "Found 203 images belonging to 2 classes.\n",
      "Epoch 1/10\n",
      "1331/1331 [==============================] - 20s 15ms/step - loss: 0.1970 - accuracy: 0.9038 - val_loss: 0.1894 - val_accuracy: 0.9216\n",
      "Epoch 2/10\n",
      "1331/1331 [==============================] - 19s 14ms/step - loss: 0.1886 - accuracy: 0.9053 - val_loss: 0.3676 - val_accuracy: 0.7745\n",
      "Epoch 3/10\n",
      "1331/1331 [==============================] - 19s 15ms/step - loss: 0.1809 - accuracy: 0.9106 - val_loss: 0.3401 - val_accuracy: 0.8235\n",
      "Epoch 4/10\n",
      "1331/1331 [==============================] - 21s 16ms/step - loss: 0.1785 - accuracy: 0.9106 - val_loss: 0.2851 - val_accuracy: 0.8627\n",
      "Epoch 5/10\n",
      "1331/1331 [==============================] - 21s 16ms/step - loss: 0.1915 - accuracy: 0.9061 - val_loss: 0.2715 - val_accuracy: 0.8431\n",
      "Epoch 6/10\n",
      "1331/1331 [==============================] - 18s 14ms/step - loss: 0.1902 - accuracy: 0.9061 - val_loss: 0.1873 - val_accuracy: 0.9510\n",
      "Epoch 7/10\n",
      "1331/1331 [==============================] - 19s 14ms/step - loss: 0.1845 - accuracy: 0.9128 - val_loss: 0.1974 - val_accuracy: 0.8824\n",
      "Epoch 8/10\n",
      "1331/1331 [==============================] - 20s 15ms/step - loss: 0.1754 - accuracy: 0.9136 - val_loss: 0.2530 - val_accuracy: 0.8333\n",
      "Epoch 9/10\n",
      "1331/1331 [==============================] - 20s 15ms/step - loss: 0.1761 - accuracy: 0.9121 - val_loss: 0.2933 - val_accuracy: 0.8333\n",
      "Epoch 10/10\n",
      "1331/1331 [==============================] - 20s 15ms/step - loss: 0.1793 - accuracy: 0.9121 - val_loss: 0.2461 - val_accuracy: 0.8725\n"
     ]
    },
    {
     "data": {
      "text/plain": [
       "<tensorflow.python.keras.callbacks.History at 0x2b36513e6d0>"
      ]
     },
     "execution_count": 34,
     "metadata": {},
     "output_type": "execute_result"
    }
   ],
   "source": [
    "from keras.preprocessing.image import ImageDataGenerator\n",
    "trainDatagen = ImageDataGenerator(rescale = 1./255,\n",
    "                                  shear_range = 0.2, # yana bukme     \n",
    "                                  zoom_range = 0.2,       \n",
    "                                  horizontal_flip = True)\n",
    "\n",
    "testDatagen = ImageDataGenerator(rescale = 1./255,\n",
    "                                  shear_range = 0.2,      \n",
    "                                  zoom_range = 0.2,       \n",
    "                                  horizontal_flip = True) \n",
    "\n",
    "trainingSet = trainDatagen.flow_from_directory(\n",
    "    'veriler/training_set',\n",
    "    target_size = (64, 64),\n",
    "    batch_size = 2,\n",
    "    class_mode = 'binary'\n",
    ")\n",
    "\n",
    "testSet = trainDatagen.flow_from_directory(  # bu bize (x, y) don durur bu da -> (batch_size, **target_size, channels) ve y\n",
    "    'veriler/test_set',\n",
    "    target_size = (64, 64),\n",
    "    batch_size = 2,\n",
    "    class_mode = 'binary'\n",
    ")\n",
    "\n",
    "model.fit_generator(\n",
    "    generator = trainingSet,                          # okudugumuz degeri   \n",
    "    steps_per_epoch = len(trainingSet),               # her epoch da okunacak ornek\n",
    "    epochs = 1,                                      # kac epoch istedigimiz\n",
    "    validation_data = testSet,                        # dogrulama  verileri\n",
    "    validation_steps = len(testSet)/2                 #  \n",
    ")"
   ]
  },
  {
   "cell_type": "code",
   "execution_count": 35,
   "metadata": {},
   "outputs": [
    {
     "name": "stdout",
     "output_type": "stream",
     "text": [
      "102/102 [==============================] - 1s 14ms/step\n"
     ]
    },
    {
     "data": {
      "text/html": [
       "<div>\n",
       "<style scoped>\n",
       "    .dataframe tbody tr th:only-of-type {\n",
       "        vertical-align: middle;\n",
       "    }\n",
       "\n",
       "    .dataframe tbody tr th {\n",
       "        vertical-align: top;\n",
       "    }\n",
       "\n",
       "    .dataframe thead th {\n",
       "        text-align: right;\n",
       "    }\n",
       "</style>\n",
       "<table border=\"1\" class=\"dataframe\">\n",
       "  <thead>\n",
       "    <tr style=\"text-align: right;\">\n",
       "      <th></th>\n",
       "      <th>dosyaIsimleri</th>\n",
       "      <th>tahminler</th>\n",
       "      <th>test</th>\n",
       "    </tr>\n",
       "  </thead>\n",
       "  <tbody>\n",
       "    <tr>\n",
       "      <th>0</th>\n",
       "      <td>erkek\\AbdA_00001_m_31_i_fr_nc_no_2016_2_e0_nl_...</td>\n",
       "      <td>[1.0]</td>\n",
       "      <td>0.0</td>\n",
       "    </tr>\n",
       "    <tr>\n",
       "      <th>1</th>\n",
       "      <td>erkek\\AbdA_00002_m_31_i_fr_nc_sr_2016_2_e0_nl_...</td>\n",
       "      <td>[0.0]</td>\n",
       "      <td>0.0</td>\n",
       "    </tr>\n",
       "    <tr>\n",
       "      <th>2</th>\n",
       "      <td>erkek\\AbdA_00003_m_31_i_fr_nc_hp_2016_2_e0_nl_...</td>\n",
       "      <td>[0.0]</td>\n",
       "      <td>0.0</td>\n",
       "    </tr>\n",
       "    <tr>\n",
       "      <th>3</th>\n",
       "      <td>erkek\\AbdA_00004_m_31_i_fr_nc_hp_2016_2_e0_nl_...</td>\n",
       "      <td>[0.0]</td>\n",
       "      <td>0.0</td>\n",
       "    </tr>\n",
       "    <tr>\n",
       "      <th>4</th>\n",
       "      <td>erkek\\AbdA_00005_m_31_i_fr_nc_hp_2016_2_e0_nl_...</td>\n",
       "      <td>[0.0]</td>\n",
       "      <td>0.0</td>\n",
       "    </tr>\n",
       "    <tr>\n",
       "      <th>...</th>\n",
       "      <td>...</td>\n",
       "      <td>...</td>\n",
       "      <td>...</td>\n",
       "    </tr>\n",
       "    <tr>\n",
       "      <th>198</th>\n",
       "      <td>kadin\\HadM_00817_f_23_i_nf_nc_hp_2014_1_e0_nl_...</td>\n",
       "      <td>[1.0]</td>\n",
       "      <td>1.0</td>\n",
       "    </tr>\n",
       "    <tr>\n",
       "      <th>199</th>\n",
       "      <td>kadin\\HadM_00818_f_25_o_nf_nc_no_2016_1_e0_nl_...</td>\n",
       "      <td>[0.0]</td>\n",
       "      <td>0.0</td>\n",
       "    </tr>\n",
       "    <tr>\n",
       "      <th>200</th>\n",
       "      <td>kadin\\HadM_00819_f_25_o_nf_nc_no_2016_1_e0_nl_...</td>\n",
       "      <td>[0.0]</td>\n",
       "      <td>0.0</td>\n",
       "    </tr>\n",
       "    <tr>\n",
       "      <th>201</th>\n",
       "      <td>kadin\\HebD_00821_f_28_i_nf_cr_sd_2016_1_e0_nl_...</td>\n",
       "      <td>[0.0]</td>\n",
       "      <td>0.0</td>\n",
       "    </tr>\n",
       "    <tr>\n",
       "      <th>202</th>\n",
       "      <td>kadin\\HebD_00822_f_28_o_nf_nc_hp_2016_1_e0_nl_...</td>\n",
       "      <td>[0.0]</td>\n",
       "      <td>1.0</td>\n",
       "    </tr>\n",
       "  </tbody>\n",
       "</table>\n",
       "<p>203 rows × 3 columns</p>\n",
       "</div>"
      ],
      "text/plain": [
       "                                         dosyaIsimleri tahminler  test\n",
       "0    erkek\\AbdA_00001_m_31_i_fr_nc_no_2016_2_e0_nl_...     [1.0]   0.0\n",
       "1    erkek\\AbdA_00002_m_31_i_fr_nc_sr_2016_2_e0_nl_...     [0.0]   0.0\n",
       "2    erkek\\AbdA_00003_m_31_i_fr_nc_hp_2016_2_e0_nl_...     [0.0]   0.0\n",
       "3    erkek\\AbdA_00004_m_31_i_fr_nc_hp_2016_2_e0_nl_...     [0.0]   0.0\n",
       "4    erkek\\AbdA_00005_m_31_i_fr_nc_hp_2016_2_e0_nl_...     [0.0]   0.0\n",
       "..                                                 ...       ...   ...\n",
       "198  kadin\\HadM_00817_f_23_i_nf_nc_hp_2014_1_e0_nl_...     [1.0]   1.0\n",
       "199  kadin\\HadM_00818_f_25_o_nf_nc_no_2016_1_e0_nl_...     [0.0]   0.0\n",
       "200  kadin\\HadM_00819_f_25_o_nf_nc_no_2016_1_e0_nl_...     [0.0]   0.0\n",
       "201  kadin\\HebD_00821_f_28_i_nf_cr_sd_2016_1_e0_nl_...     [0.0]   0.0\n",
       "202  kadin\\HebD_00822_f_28_o_nf_nc_hp_2016_1_e0_nl_...     [0.0]   1.0\n",
       "\n",
       "[203 rows x 3 columns]"
      ]
     },
     "execution_count": 35,
     "metadata": {},
     "output_type": "execute_result"
    }
   ],
   "source": [
    "import pandas as pd \n",
    "import numpy as np\n",
    "\n",
    "testSet.reset()\n",
    "pred = model.predict_generator(testSet, verbose = 1)\n",
    "\n",
    "pred[pred > 0.5] = 1\n",
    "pred[pred <= 0.5] = 0\n",
    "\n",
    "testLabel = []\n",
    "for i in range(len(testSet)):\n",
    "    testLabel.extend(np.array(testSet[i][1])) # yukarida anlattim y kismi burada doner. (In the section directoryiterator)\n",
    "\n",
    "#print(testSet.filenames)\n",
    "d = {'dosyaIsimleri' : testSet.filenames, 'tahminler' : pred.tolist() , 'test' : testLabel}\n",
    "cikti = pd.DataFrame(d)\n",
    "cikti"
   ]
  },
  {
   "cell_type": "code",
   "execution_count": 44,
   "metadata": {},
   "outputs": [
    {
     "data": {
      "text/plain": [
       "array([[121,  30],\n",
       "       [ 38,  14]], dtype=int64)"
      ]
     },
     "execution_count": 44,
     "metadata": {},
     "output_type": "execute_result"
    }
   ],
   "source": [
    "\"\"\"**Confision Matrix**\"\"\"\n",
    "from sklearn.metrics import confusion_matrix\n",
    "\n",
    "cm = confusion_matrix(testLabel, pred)\n",
    "cm"
   ]
  },
  {
   "cell_type": "code",
   "execution_count": 46,
   "metadata": {},
   "outputs": [
    {
     "data": {
      "text/plain": [
       "array([0.66502463])"
      ]
     },
     "execution_count": 46,
     "metadata": {},
     "output_type": "execute_result"
    }
   ],
   "source": [
    "(cm[0, 0] + cm[1, 1])/sum(cm.reshape(-1, 1))"
   ]
  },
  {
   "cell_type": "code",
   "execution_count": null,
   "metadata": {},
   "outputs": [],
   "source": []
  }
 ],
 "metadata": {
  "kernelspec": {
   "display_name": "Python 3",
   "language": "python",
   "name": "python3"
  },
  "language_info": {
   "codemirror_mode": {
    "name": "ipython",
    "version": 3
   },
   "file_extension": ".py",
   "mimetype": "text/x-python",
   "name": "python",
   "nbconvert_exporter": "python",
   "pygments_lexer": "ipython3",
   "version": "3.8.6"
  }
 },
 "nbformat": 4,
 "nbformat_minor": 4
}
